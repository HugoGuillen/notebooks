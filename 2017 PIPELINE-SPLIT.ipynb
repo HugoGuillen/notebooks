{
 "cells": [
  {
   "cell_type": "code",
   "execution_count": 1,
   "metadata": {
    "collapsed": true
   },
   "outputs": [],
   "source": [
    "import sys\n",
    "sys.path.append('../../Libretas Jupyter')\n",
    "from rnautils import rnautils as Utils\n",
    "from rnautils import rfam as Rfam\n",
    "from rnautils import cdhit as Cdhit\n",
    "from rnautils import blast as Blast\n",
    "from features.seq_composition import SeqComposition\n",
    "import features.arffutils as Arffutils\n",
    "import features.wekautils as Wekautils"
   ]
  },
  {
   "cell_type": "code",
   "execution_count": 2,
   "metadata": {
    "collapsed": true
   },
   "outputs": [],
   "source": [
    "import sys\n",
    "import os\n",
    "from os import listdir,path\n",
    "import shutil\n",
    "import gzip\n",
    "import csv\n",
    "import textwrap\n",
    "import re \n",
    "from collections import Counter\n",
    "import pandas as pd\n",
    "from pandas import DataFrame\n",
    "import numpy as np \n",
    "import matplotlib.pyplot as plt \n",
    "import matplotlib.image as mpimg\n",
    "\n",
    "rfam11_path = r'/home/hugo/Documents/DATABASES/RFAM/11.0'\n",
    "basepath = r'/home/hugo/Documents/PUBLICATIONS/2017-Riboswitches-split'\n",
    "blast_path = r'/home/hugo/Documents/APPS/ncbi-blast-2.6.0+/bin'\n",
    "weka_output = r'/home/hugo/Dropbox/DOCTORADO CICESE/000 TESIS/Software/Libretas Jupyter/riboswitches2/weka/60-40'\n",
    "manuscript_path = r'/home/hugo/Dropbox/zzzSubmissions/+Por escribir/2017-1 Riboswitch classification/biosystems'"
   ]
  },
  {
   "cell_type": "markdown",
   "metadata": {},
   "source": [
    "## Prebuild\n",
    "Execute this cell to generate the initial folder structure and files."
   ]
  },
  {
   "cell_type": "code",
   "execution_count": 3,
   "metadata": {},
   "outputs": [
    {
     "name": "stderr",
     "output_type": "stream",
     "text": [
      "Wrote /home/hugo/Documents/PUBLICATIONS/2017-Riboswitches-split/docs/families.txt\n"
     ]
    }
   ],
   "source": [
    "blast_output_path = path.join(basepath,'blastn')\n",
    "docs_path = path.join(basepath,'docs')\n",
    "raw_path = path.join(basepath,'raw')\n",
    "features_path = path.join(basepath,'features')\n",
    "results_path = path.join(basepath,'results')\n",
    "results_raw_path = path.join(basepath,'results_raw')\n",
    "results_parsed_path = path.join(basepath,'results_parsed')\n",
    "\n",
    "for f in [basepath,blast_path,docs_path,raw_path,features_path,\n",
    "          results_path,results_raw_path,results_parsed_path]:\n",
    "    if not path.exists(f):\n",
    "        os.makedirs(f)\n",
    "\n",
    "fasta_transform = lambda x:x.upper().replace('T','U')\n",
    "id_transform=lambda x:x.split('|')[0].replace(' ','_')\n",
    "float_format='%.3f'\n",
    "img_format = 'png'\n",
    "\n",
    "#Write families list\n",
    "families = ['RF00174','RF01051','RF00050','RF00234','RF00504','RF00168','RF00522','RF01054',\n",
    "            'RF00167','RF00162','RF00521','RF00634','RF01057','RF00059','RF00380','RF01055']\n",
    "families = sorted(families)\n",
    "families_file = path.join(basepath,'docs','families.txt')\n",
    "with open(families_file,'w') as f:\n",
    "    f.write('\\n'.join(families))\n",
    "print('Wrote',families_file,file=sys.stderr)\n",
    "results_singh = {'ACC':.81, #Fig. 4\n",
    "         'Sen':.9142,\n",
    "         'Spe':.2609,\n",
    "         'F1':.3305}\n",
    "\n",
    "#File locations\n",
    "rfam11_seqs_raw_csv = path.join(raw_path,'rfam11_raw.csv')\n",
    "rfam11_seqs_raw = path.join(raw_path,'rfam11_raw.fasta')\n",
    "rfam11_seqs_nr = path.join(raw_path,'rfam11_nr.fasta')\n",
    "training_seqs = path.join(raw_path,'training.fasta')\n",
    "test_seqs = path.join(raw_path,'test.fasta')\n",
    "test_hard_seqs = path.join(raw_path,'test_hard.fasta')\n",
    "seqs_summary = path.join(docs_path,'summary.csv')\n",
    "\n",
    "#Features\n",
    "features_training = path.join(features_path,'training-hex.arff')\n",
    "features_test = path.join(features_path,'test-hex.arff')\n",
    "features_test_hard = path.join(features_path,'test-hard-hex.arff')\n",
    "features_training_dnc = path.join(features_path,'training-dnc.arff')\n",
    "features_test_dnc = path.join(features_path,'test-dnc.arff')\n",
    "features_test_hard_dnc = path.join(features_path,'test-hard-dnc.arff')\n",
    "\n",
    "#Feature selection\n",
    "cfs_training = path.join(features_path,'training-hex-cfs.arff')\n",
    "cfs_test = path.join(features_path,'test-hex-cfs.arff')\n",
    "cfs_test_hard = path.join(features_path,'test-hard-hex-cfs.arff')"
   ]
  },
  {
   "cell_type": "markdown",
   "metadata": {},
   "source": [
    "# Methods"
   ]
  },
  {
   "cell_type": "code",
   "execution_count": 4,
   "metadata": {
    "collapsed": true
   },
   "outputs": [],
   "source": [
    "def fastacsv_to_fasta(input_csv,output_fasta,fasta_transform=lambda x:x):\n",
    "    o_f = open(output_fasta,'w')\n",
    "    with open(input_csv) as f:\n",
    "        f.readline()\n",
    "        for line in f:\n",
    "            line=line.strip()\n",
    "            if len(line)==0:\n",
    "                continue\n",
    "            fields = line.split(',')\n",
    "            o_f.write(Utils.fasta_string(fields[1] + '|' + fields[0],fields[2],\n",
    "                                        fasta_transform=fasta_transform))\n",
    "    o_f.close()\n",
    "    print('Wrote',output_fasta,file=sys.stderr)\n",
    "    \n",
    "    \n",
    "def retrieve_from_fasta(input_fasta,id_list,output_fasta):\n",
    "    ids = {i:'' for i in id_list}\n",
    "    with open(output_fasta,'w') as f:\n",
    "        for r in Utils.parse_fasta(input_fasta):\n",
    "            if r['id'] in ids:\n",
    "                f.write(Utils.fasta_string(r['id'],r['sequence']))\n",
    "    print('Wrote',output_fasta,file=sys.stderr)\n",
    "    \n",
    "    \n",
    "def summary_fasta_seqs(fasta_list,output_csv):\n",
    "    labels = {}\n",
    "    for r in Utils.parse_fasta(fasta_list[0],id_transform=lambda x:x.split('|')[0]):        \n",
    "        labels[r['id']]=''\n",
    "    labels = sorted(labels.keys())\n",
    "    data = {}\n",
    "    order = []\n",
    "    for f in fasta_list:\n",
    "        counter = {l:0 for l in labels}\n",
    "        name = path.basename(f).replace('.fasta','')\n",
    "        order.append(name)\n",
    "        for r in Utils.parse_fasta(f,id_transform=lambda x:x.split('|')[0]):\n",
    "            counter[r['id']]+=1\n",
    "        data[name] = counter\n",
    "    df = DataFrame.from_dict(data,orient='index')\n",
    "    df['TOTAL'] = df.sum(axis=1)    \n",
    "    df = df.T\n",
    "    df = df[order]\n",
    "    df.to_csv(output_csv)\n",
    "    print('Wrote',output_csv,file=sys.stderr)\n",
    "    \n",
    "    \n",
    "def merge_weka_results(input_files,output_file):\n",
    "    df = DataFrame()\n",
    "    for i in input_files:\n",
    "        if df.empty:\n",
    "            df = pd.read_csv(i,index_col=0)\n",
    "        else:\n",
    "            df = pd.concat([df,pd.read_csv(i,index_col=0)])\n",
    "    df.to_csv(output_file, float_format=float_format)\n",
    "    \n",
    "    \n",
    "def extract_weka_results(knowledgeflow_obj,output_path,prefix,title=''):\n",
    "    r = knowledgeflow_obj\n",
    "    _scheme = r['Scheme']\n",
    "    _confusion_csv = path.join(output_path,prefix+_scheme+'-confusion.csv')\n",
    "    _confusion_img = path.join(output_path,prefix+_scheme+'-confusion.'+img_format)\n",
    "    _metrics_csv = path.join(output_path,prefix+_scheme+'-weka_metrics.csv')    \n",
    "    r['confusion'].to_csv(_confusion_csv)\n",
    "    r['metrics'].to_csv(_metrics_csv, float_format=float_format)\n",
    "    Wekautils.plot_confusion_from_pandas(r['confusion'],title=prefix+_scheme,output=_confusion_img)    \n",
    "    \n",
    "    \n",
    "def get_metrics_from_confusion(confusion_matrix,labels):    \n",
    "    order = ['support','sup_frac','TP','TN','FP','FN','Sen','Spe','F1','MCC','PPV','NPV','FPR','FNR','FDR']\n",
    "    n = confusion_matrix.sum(axis=None)\n",
    "    FP = confusion_matrix.sum(axis=0) - np.diag(confusion_matrix)  \n",
    "    FN = confusion_matrix.sum(axis=1) - np.diag(confusion_matrix)\n",
    "    TP = np.diag(confusion_matrix)    \n",
    "    TN = n - (FP + FN + TP)\n",
    "    d = {'class':labels,\n",
    "        'support' : confusion_matrix.sum(axis=1),\n",
    "        'sup_frac' :  confusion_matrix.sum(axis=1)/n,\n",
    "        'FP':FP,'FN':FN,'TP':TP,'TN':TN,        \n",
    "        'Sen' : TP/(TP+FN),# Sensitivity, hit rate, recall, or true positive rate        \n",
    "        'Spe' : TN/(TN+FP),# Specificity or true negative rate        \n",
    "        'F1' : 2*TP/(2*TP+FP+FN),# F-measure        \n",
    "        'MCC' : (TP*TN - FP*FN)/(np.sqrt((TP+FP)*(TP+FN)*(TN+FP)*(TN+FN))),        \n",
    "        'PPV' : TP/(TP+FP),# Precision or positive predictive value        \n",
    "        'NPV' : TN/(TN+FN),# Negative predictive value        \n",
    "        'FPR' : FP/(FP+TN),# Fall out or false positive rate        \n",
    "        'FNR' : FN/(TP+FN),# False negative rate        \n",
    "        'FDR' : FP/(TP+FP)# False discovery rate\n",
    "        }         \n",
    "    df_byclass = DataFrame.from_dict(d).set_index(['class']).fillna(0)\n",
    "    df_byclass = df_byclass[order]\n",
    "    df = df_byclass.copy()\n",
    "    to_weight = ['Sen','Spe','F1','MCC']\n",
    "    for c in to_weight:\n",
    "        df['w_'+c] = df[c]*df['sup_frac']\n",
    "    D = {'ACC': np.sum(np.diag(confusion_matrix))/n,\n",
    "         'Sen':df['w_Sen'].sum(),\n",
    "         'Spe':df['w_Spe'].sum(),\n",
    "         'F1':df['w_F1'].sum(),\n",
    "         'MCC':df['w_MCC'].sum()\n",
    "        }    \n",
    "    # Overall accuracy\n",
    "    #'ACC' : np.sum(np.diag(confusion_matrix))/n\n",
    "    #'ACC' : (TP+TN)/(TP+FP+FN+TN)\n",
    "    return df_byclass, D\n",
    "    \n",
    "    \n",
    "def get_metrics_from_confusioncsv(csv_file):\n",
    "    df = pd.read_csv(csv_file,index_col=0)    \n",
    "    labels = list(df)\n",
    "    matrix = df.values\n",
    "    return get_metrics_from_confusion(matrix,labels)    \n",
    "    \n",
    "def latex_img(img,label,caption):\n",
    "    s='''\\\\begin{figure}[ht]\n",
    "\\centering\n",
    "\\includegraphics[width=\\\\textwidth]{\"%s\"}\n",
    "\\caption{%s}\\label{%s}\n",
    "\\end{figure}\n",
    "'''\n",
    "    return s%(img,caption,label)\n",
    "    \n",
    "    \n",
    "def latex_table(df,label,caption):     \n",
    "    s=\"\"\"\\\\begin{table}[ht]\n",
    "\\centering\n",
    "    %s \\caption{\\label{%s}%s}\n",
    "\\end{table}\n",
    "\"\"\"%(df.to_latex(index=None,na_rep='',float_format=float_format),label,caption)    \n",
    "    m = re.findall ( re.escape('\\\\toprule\\n')+'(.*?)'+re.escape('\\\\midrule'), s, re.DOTALL)    \n",
    "    header = m[0][:m[0].index('\\\\\\\\')]    \n",
    "    s=s.replace(header,' & '.join(['\\multicolumn{1}{c}{%s}'%x.strip() for x in header.split('&')]))\n",
    "    return s"
   ]
  },
  {
   "cell_type": "code",
   "execution_count": 5,
   "metadata": {},
   "outputs": [
    {
     "name": "stderr",
     "output_type": "stream",
     "text": [
      "Wrote /home/hugo/Documents/PUBLICATIONS/2017-Riboswitches-split/docs/rfam11.info.csv\n"
     ]
    }
   ],
   "source": [
    "Rfam.create_families_csv(version=11.0,rfam_path=rfam11_path,families=families,\n",
    "                         output_file=path.join(docs_path,'rfam11.info.csv'))"
   ]
  },
  {
   "cell_type": "code",
   "execution_count": 6,
   "metadata": {},
   "outputs": [
    {
     "name": "stderr",
     "output_type": "stream",
     "text": [
      "Wrote /home/hugo/Documents/PUBLICATIONS/2017-Riboswitches-split/raw/rfam11_raw.csv\n"
     ]
    }
   ],
   "source": [
    "Rfam.get_rfam11_by_family_list(rfam_fasta_path=path.join(rfam11_path,'Rfam.fasta.gz'), \n",
    "                          families_file=families_file, \n",
    "                          output_file=rfam11_seqs_raw_csv)"
   ]
  },
  {
   "cell_type": "code",
   "execution_count": 7,
   "metadata": {},
   "outputs": [
    {
     "name": "stderr",
     "output_type": "stream",
     "text": [
      "Wrote /home/hugo/Documents/PUBLICATIONS/2017-Riboswitches-split/raw/rfam11_raw.fasta\n"
     ]
    }
   ],
   "source": [
    "fastacsv_to_fasta(input_csv=rfam11_seqs_raw_csv, \n",
    "                  output_fasta=rfam11_seqs_raw,\n",
    "                 fasta_transform=fasta_transform)"
   ]
  },
  {
   "cell_type": "code",
   "execution_count": 8,
   "metadata": {},
   "outputs": [
    {
     "data": {
      "text/plain": [
       "'/home/hugo/Documents/PUBLICATIONS/2017-Riboswitches-split/raw/rfam11_nr.fasta'"
      ]
     },
     "execution_count": 8,
     "metadata": {},
     "output_type": "execute_result"
    }
   ],
   "source": [
    "shutil.copy(rfam11_seqs_raw,rfam11_seqs_nr)\n",
    "#Cdhit.cdhit_est(rfam11_seqs_raw,rfam11_seqs_nr,.9,8)"
   ]
  },
  {
   "cell_type": "code",
   "execution_count": 9,
   "metadata": {},
   "outputs": [
    {
     "name": "stderr",
     "output_type": "stream",
     "text": [
      "Wrote /home/hugo/Documents/PUBLICATIONS/2017-Riboswitches-split/raw/training.fasta\n",
      "Wrote /home/hugo/Documents/PUBLICATIONS/2017-Riboswitches-split/raw/test.fasta\n"
     ]
    }
   ],
   "source": [
    "Utils.stratified_split_fasta(rfam11_seqs_nr,training_seqs,test_seqs,percent_train=60,\n",
    "                             fasta_transform=fasta_transform,class_transform=id_transform)"
   ]
  },
  {
   "cell_type": "code",
   "execution_count": 5,
   "metadata": {
    "scrolled": true
   },
   "outputs": [
    {
     "name": "stderr",
     "output_type": "stream",
     "text": [
      "\"/home/hugo/Documents/APPS/ncbi-blast-2.6.0+/bin/makeblastdb\" -in \"/home/hugo/Documents/PUBLICATIONS/2017-Riboswitches-split/blastn/_input.fa\" -dbtype nucl -out \"/home/hugo/Documents/PUBLICATIONS/2017-Riboswitches-split/blastn/blast.db\"\n",
      "\n",
      "Wrote /home/hugo/Documents/PUBLICATIONS/2017-Riboswitches-split/blastn/blast.db\n",
      "/home/hugo/anaconda3/lib/python3.6/site-packages/sklearn/metrics/classification.py:1115: UndefinedMetricWarning: Recall and F-score are ill-defined and being set to 0.0 in labels with no true samples.\n",
      "  'recall', 'true', average, warn_for)\n",
      ">Total sequences: 6480\n",
      ">Hits: 6480\n",
      ">max_evalue: 1.600e+01\n",
      ">Errors: 31\n",
      ">min_evalue_incorrect: 1.300e-02\n",
      ">Sequences with e_value >= min_evalue incorrect: 115\n",
      ">blastn classification report (all)\n",
      "class              precision    recall  f1-score   support\n",
      "\n",
      "    RF00050       1.00      1.00      1.00       485\n",
      "    RF00059       1.00      1.00      1.00      1447\n",
      "    RF00162       0.99      1.00      1.00       497\n",
      "    RF00167       1.00      1.00      1.00       237\n",
      "    RF00168       1.00      0.92      0.96       225\n",
      "    RF00174       0.99      1.00      1.00      1715\n",
      "    RF00234       0.98      1.00      0.99       110\n",
      "    RF00380       1.00      1.00      1.00        87\n",
      "    RF00504       1.00      1.00      1.00       850\n",
      "    RF00521       1.00      1.00      1.00        67\n",
      "    RF00522       1.00      0.96      0.98        47\n",
      "    RF00634       0.99      1.00      0.99        87\n",
      "    RF01051       1.00      1.00      1.00       408\n",
      "    RF01054       1.00      1.00      1.00        16\n",
      "    RF01055       0.99      0.94      0.97       122\n",
      "    RF01057       0.99      1.00      0.99        80\n",
      "\n",
      "avg/total       1.00      1.00      1.00      6480\n",
      "\n",
      ">blastn confusion matrix (all)\n",
      " ,RF00050,RF00059,RF00162,RF00167,RF00168,RF00174,RF00234,RF00380,RF00504,RF00521,RF00522,RF00634,RF01051,RF01054,RF01055,RF01057\n",
      "RF00050,485,0,0,0,0,0,0,0,0,0,0,0,0,0,0,0\n",
      "RF00059,0,1447,0,0,0,0,0,0,0,0,0,0,0,0,0,0\n",
      "RF00162,0,0,497,0,0,0,0,0,0,0,0,0,0,0,0,0\n",
      "RF00167,0,0,0,236,0,0,0,0,0,0,0,0,0,0,1,0\n",
      "RF00168,0,2,2,0,208,9,2,0,0,0,0,0,2,0,0,0\n",
      "RF00174,0,0,0,0,0,1715,0,0,0,0,0,0,0,0,0,0\n",
      "RF00234,0,0,0,0,0,0,110,0,0,0,0,0,0,0,0,0\n",
      "RF00380,0,0,0,0,0,0,0,87,0,0,0,0,0,0,0,0\n",
      "RF00504,0,4,0,0,0,0,0,0,846,0,0,0,0,0,0,0\n",
      "RF00521,0,0,0,0,0,0,0,0,0,67,0,0,0,0,0,0\n",
      "RF00522,0,0,0,0,0,0,0,0,1,0,45,1,0,0,0,0\n",
      "RF00634,0,0,0,0,0,0,0,0,0,0,0,87,0,0,0,0\n",
      "RF01051,0,0,0,0,0,0,0,0,0,0,0,0,408,0,0,0\n",
      "RF01054,0,0,0,0,0,0,0,0,0,0,0,0,0,16,0,0\n",
      "RF01055,2,1,1,0,0,0,0,0,2,0,0,0,0,0,115,1\n",
      "RF01057,0,0,0,0,0,0,0,0,0,0,0,0,0,0,0,80\n",
      "\n",
      ">blastn classification report (evalue>=min_error)\n",
      "class              precision    recall  f1-score   support\n",
      "\n",
      "    RF00050       0.00      0.00      0.00         0\n",
      "    RF00059       0.12      1.00      0.22         1\n",
      "    RF00162       0.50      1.00      0.67         3\n",
      "    RF00167       1.00      0.86      0.92         7\n",
      "    RF00168       1.00      0.67      0.80        52\n",
      "    RF00174       0.18      1.00      0.31         2\n",
      "    RF00234       0.00      0.00      0.00         0\n",
      "    RF00504       0.83      0.79      0.81        19\n",
      "    RF00522       1.00      0.50      0.67         4\n",
      "    RF00634       0.50      1.00      0.67         1\n",
      "    RF01051       0.33      1.00      0.50         1\n",
      "    RF01055       0.92      0.63      0.75        19\n",
      "    RF01057       0.86      1.00      0.92         6\n",
      "\n",
      "avg/total       0.91      0.73      0.78       115\n",
      "\n",
      ">blastn confusion matrix (evalue>=min_error)\n",
      " ,RF00050,RF00059,RF00162,RF00167,RF00168,RF00174,RF00234,RF00380,RF00504,RF00521,RF00522,RF00634,RF01051,RF01054,RF01055,RF01057\n",
      "RF00050,0,0,0,0,0,0,0,0,0,0,0,0,0,0,0,0\n",
      "RF00059,0,1,0,0,0,0,0,0,0,0,0,0,0,0,0,0\n",
      "RF00162,0,0,3,0,0,0,0,0,0,0,0,0,0,0,0,0\n",
      "RF00167,0,0,0,6,0,0,0,0,0,0,0,0,0,0,1,0\n",
      "RF00168,0,2,2,0,35,9,2,0,0,0,0,0,2,0,0,0\n",
      "RF00174,0,0,0,0,0,2,0,0,0,0,0,0,0,0,0,0\n",
      "RF00234,0,0,0,0,0,0,0,0,0,0,0,0,0,0,0,0\n",
      "RF00380,0,0,0,0,0,0,0,0,0,0,0,0,0,0,0,0\n",
      "RF00504,0,4,0,0,0,0,0,0,15,0,0,0,0,0,0,0\n",
      "RF00521,0,0,0,0,0,0,0,0,0,0,0,0,0,0,0,0\n",
      "RF00522,0,0,0,0,0,0,0,0,1,0,2,1,0,0,0,0\n",
      "RF00634,0,0,0,0,0,0,0,0,0,0,0,1,0,0,0,0\n",
      "RF01051,0,0,0,0,0,0,0,0,0,0,0,0,1,0,0,0\n",
      "RF01054,0,0,0,0,0,0,0,0,0,0,0,0,0,0,0,0\n",
      "RF01055,2,1,1,0,0,0,0,0,2,0,0,0,0,0,12,1\n",
      "RF01057,0,0,0,0,0,0,0,0,0,0,0,0,0,0,0,6\n",
      "\n"
     ]
    }
   ],
   "source": [
    "Blast.blast_errors_pipeline(blast_path = blast_path,\n",
    "                     input_fasta = training_seqs,\n",
    "                     query_fasta = test_seqs,\n",
    "                     output_path = blast_output_path,\n",
    "                     evalues=[1e6],\n",
    "                     desc='blastn results for test vs. training',\n",
    "                     imgformat=img_format,\n",
    "                     override_db=False)  \n",
    "\n",
    "#ACC = 99.52"
   ]
  },
  {
   "cell_type": "code",
   "execution_count": 11,
   "metadata": {},
   "outputs": [
    {
     "name": "stderr",
     "output_type": "stream",
     "text": [
      "Wrote /home/hugo/Documents/PUBLICATIONS/2017-Riboswitches-split/raw/test_hard.fasta\n"
     ]
    }
   ],
   "source": [
    "ids = []\n",
    "with open(path.join(blast_output_path,'1.00E+06','sequence_limit_ids.txt')) as f:\n",
    "    for line in f:\n",
    "        line = line.strip()\n",
    "        if line!=\"\":\n",
    "            ids.append(line) \n",
    "retrieve_from_fasta(test_seqs,ids,test_hard_seqs)"
   ]
  },
  {
   "cell_type": "code",
   "execution_count": 193,
   "metadata": {},
   "outputs": [
    {
     "name": "stderr",
     "output_type": "stream",
     "text": [
      "Wrote /home/hugo/Documents/PUBLICATIONS/2017-Riboswitches-split/docs/summary.csv\n"
     ]
    }
   ],
   "source": [
    "#summary_fasta_seqs(fasta_list=[rfam11_seqs_raw,rfam11_seqs_nr,\n",
    "#                              training_seqs,test_seqs,test_hard_seqs],\n",
    "#                  output_csv=seqs_summary)\n",
    "summary_fasta_seqs(fasta_list=[rfam11_seqs_raw,\n",
    "                              training_seqs,test_seqs],#,test_hard_seqs],\n",
    "                  output_csv=seqs_summary)"
   ]
  },
  {
   "cell_type": "code",
   "execution_count": 194,
   "metadata": {},
   "outputs": [
    {
     "name": "stdout",
     "output_type": "stream",
     "text": [
      "\\begin{table}[ht]\n",
      "\\centering\n",
      "    \\begin{tabular}{llrrr}\n",
      "\\toprule\n",
      "\\multicolumn{1}{c}{rfam\\_acc} & \\multicolumn{1}{c}{description} & \\multicolumn{1}{c}{all} & \\multicolumn{1}{c}{training} & \\multicolumn{1}{c}{test}\\\\\n",
      "\\midrule\n",
      " RF00050 &                     FMN riboswitch (RFN element) &   1211 &       726 &   485 \\\\\n",
      " RF00059 &                     TPP riboswitch (THI element) &   3616 &      2169 &  1447 \\\\\n",
      " RF00162 &                    SAM riboswitch (S box leader) &   1241 &       744 &   497 \\\\\n",
      " RF00167 &                                Purine riboswitch &    592 &       355 &   237 \\\\\n",
      " RF00168 &                                Lysine riboswitch &    562 &       337 &   225 \\\\\n",
      " RF00174 &                             Cobalamin riboswitch &   4286 &      2571 &  1715 \\\\\n",
      " RF00234 &  glmS glucosamine-6-phosphate activated ribozyme &    275 &       165 &   110 \\\\\n",
      " RF00380 &                                      ykoK leader &    217 &       130 &    87 \\\\\n",
      " RF00504 &                               Glycine riboswitch &   2125 &      1275 &   850 \\\\\n",
      " RF00521 &            SAM riboswitch (alpha-proteobacteria) &    167 &       100 &    67 \\\\\n",
      " RF00522 &                                 PreQ1 riboswitch &    116 &        69 &    47 \\\\\n",
      " RF00634 &          S-adenosyl methionine (SAM) riboswitch, &    216 &       129 &    87 \\\\\n",
      " RF01051 &                       Cyclic di-GMP-I riboswitch &   1020 &       612 &   408 \\\\\n",
      " RF01054 &              preQ1-II (pre queuosine) riboswitch &     39 &        23 &    16 \\\\\n",
      " RF01055 &            Moco (molybdenum cofactor) riboswitch &    303 &       181 &   122 \\\\\n",
      " RF01057 &             S-adenosyl-L-homocysteine riboswitch &    198 &       118 &    80 \\\\\n",
      "   TOTAL &                                                  &  16184 &      9704 &  6480 \\\\\n",
      "\\bottomrule\n",
      "\\end{tabular}\n",
      "\n",
      "\\caption{\\label{tab:sequences}Total number of sequences per family. \n",
      "\\textbf{all:} sequences from RFAM 11.0, \\textbf{training:} sequences for training, \\textbf{test:} sequences for test.}\n",
      "\\end{table}\n",
      "\n"
     ]
    }
   ],
   "source": [
    "df1 = pd.read_csv(path.join(docs_path,'rfam11.info.csv'),index_col='rfam_acc')\n",
    "df1 = df1[['description']]\n",
    "df2 = pd.read_csv(seqs_summary,index_col=None).rename(columns={'Unnamed: 0':'rfam_acc','rfam11_raw':'all'}).set_index(['rfam_acc'])\n",
    "df = df1.join(df2,how='right')\n",
    "df.reset_index(inplace=True)\n",
    "label = 'tab:sequences'\n",
    "caption = '''Total number of sequences per family. \n",
    "\\\\textbf{all:} sequences from RFAM 11.0, \\\\textbf{training:} sequences for training, \\\\textbf{test:} sequences for test.'''\n",
    "print(latex_table(df,label,caption))"
   ]
  },
  {
   "cell_type": "code",
   "execution_count": 13,
   "metadata": {},
   "outputs": [
    {
     "name": "stderr",
     "output_type": "stream",
     "text": [
      "Wrote /home/hugo/Documents/PUBLICATIONS/2017-Riboswitches-split/features/training-dnc.arff\n",
      "Wrote /home/hugo/Documents/PUBLICATIONS/2017-Riboswitches-split/features/test-hard-dnc.arff\n",
      "Wrote /home/hugo/Documents/PUBLICATIONS/2017-Riboswitches-split/features/test-dnc.arff\n"
     ]
    }
   ],
   "source": [
    "files_dnc = {training_seqs:features_training_dnc,\n",
    "         test_seqs:features_test_dnc,\n",
    "         test_hard_seqs:features_test_hard_dnc}\n",
    "F = SeqComposition(2)\n",
    "for k,v in files_dnc.items():\n",
    "    F.to_arff(input_fasta=k,output_arff=v,\n",
    "         relation='riboswitch_dnc',\n",
    "         id_func=id_transform)\n",
    "    print('Wrote',v,file=sys.stderr)"
   ]
  },
  {
   "cell_type": "code",
   "execution_count": 14,
   "metadata": {
    "collapsed": true
   },
   "outputs": [],
   "source": [
    "Arffutils.homologate_class([features_training_dnc,features_test_dnc,features_test_hard_dnc])"
   ]
  },
  {
   "cell_type": "code",
   "execution_count": 15,
   "metadata": {},
   "outputs": [
    {
     "name": "stderr",
     "output_type": "stream",
     "text": [
      "Wrote /home/hugo/Documents/PUBLICATIONS/2017-Riboswitches-split/features/training-hex.arff\n",
      "Wrote /home/hugo/Documents/PUBLICATIONS/2017-Riboswitches-split/features/test-hard-hex.arff\n",
      "Wrote /home/hugo/Documents/PUBLICATIONS/2017-Riboswitches-split/features/test-hex.arff\n"
     ]
    }
   ],
   "source": [
    "files_hex = {training_seqs:features_training,\n",
    "         test_seqs:features_test,\n",
    "         test_hard_seqs:features_test_hard}\n",
    "F = SeqComposition(6)\n",
    "for k,v in files_hex.items():\n",
    "    F.to_arff(input_fasta=k,output_arff=v,\n",
    "         relation='riboswitch_hex',\n",
    "         id_func=id_transform)\n",
    "    print('Wrote',v,file=sys.stderr)"
   ]
  },
  {
   "cell_type": "code",
   "execution_count": 16,
   "metadata": {
    "collapsed": true
   },
   "outputs": [],
   "source": [
    "Arffutils.homologate_class([features_training,features_test,features_test_hard])"
   ]
  },
  {
   "cell_type": "markdown",
   "metadata": {
    "collapsed": true
   },
   "source": [
    "### Note: run CFS on `training_hex.arff` and save it in `features/training-hex-cfs.arff`"
   ]
  },
  {
   "cell_type": "code",
   "execution_count": 5,
   "metadata": {
    "collapsed": true
   },
   "outputs": [],
   "source": [
    "dnc_attrs = Arffutils.arff_info(features_training_dnc)['attributes']\n",
    "hexcfs_attrs = Arffutils.arff_info(cfs_training)['attributes']\n",
    "hex_attrs = Arffutils.arff_info(features_training)['attributes']"
   ]
  },
  {
   "cell_type": "code",
   "execution_count": 234,
   "metadata": {},
   "outputs": [
    {
     "name": "stdout",
     "output_type": "stream",
     "text": [
      "\\begin{table}[ht]\n",
      "\\centering\n",
      "    \\begin{tabular}{lrrr}\n",
      "\\toprule\n",
      "\\multicolumn{1}{c}{features} & \\multicolumn{1}{c}{DNC} & \\multicolumn{1}{c}{HEX} & \\multicolumn{1}{c}{HEXCFS}\\\\\n",
      "\\midrule\n",
      "   1-mer &    4 &     4 &       0 \\\\\n",
      "   2-mer &   16 &    16 &      10 \\\\\n",
      "   3-mer &    0 &    64 &       5 \\\\\n",
      "   4-mer &    0 &   256 &      46 \\\\\n",
      "   5-mer &    0 &  1024 &      56 \\\\\n",
      "   6-mer &    0 &  4096 &      39 \\\\\n",
      "   TOTAL &   20 &  5460 &     156 \\\\\n",
      "\\bottomrule\n",
      "\\end{tabular}\n",
      "\n",
      "\\caption{\\label{tab:features}Content of feature sets.}\n",
      "\\end{table}\n",
      "\n"
     ]
    }
   ],
   "source": [
    "c_dnc = {str(k)+'-mer':v for k,v in Counter([len(x) for x in dnc_attrs]).items()}\n",
    "c_hex = {str(k)+'-mer':v for k,v in Counter([len(x) for x in hex_attrs]).items()}\n",
    "c_hexcfs = {str(k)+'-mer':v for k,v in Counter([len(x) for x in hexcfs_attrs]).items()}\n",
    "d = {'DNC':c_dnc,'HEX':c_hex,'HEXCFS':c_hexcfs}\n",
    "df = DataFrame.from_dict(d,orient='index',dtype=np.int).fillna(0).astype(int)\n",
    "df['TOTAL'] = df.sum(axis=1)\n",
    "df = df.transpose().reset_index().rename(columns={'index':'features'})\n",
    "label = 'tab:features'\n",
    "caption = '''Content of feature sets.'''\n",
    "print(latex_table(df,label,caption))"
   ]
  },
  {
   "cell_type": "code",
   "execution_count": 8,
   "metadata": {},
   "outputs": [
    {
     "name": "stdout",
     "output_type": "stream",
     "text": [
      "156 ['aa', 'au', 'ac', 'ag', 'ug', 'ca', 'cc', 'ga', 'gu', 'gc', 'ucc', 'cua', 'cuc', 'cug', 'ggg', 'aaac', 'aaua', 'aaga', 'aucu', 'aucg', 'augg', 'acau', 'accg', 'acga', 'agag', 'aguu', 'aguc', 'aggu', 'aggc', 'uaua', 'uuac', 'uuuc', 'uucg', 'uugu', 'uugg', 'ucaa', 'ucau', 'ucua', 'ugcu', 'caca', 'cagc', 'cuaa', 'cuau', 'cuac', 'cucu', 'cuga', 'ccaa', 'cguu', 'cgcu', 'cggu', 'gaua', 'gauu', 'gaca', 'gacu', 'guaa', 'gucg', 'gugg', 'gcaa', 'gccu', 'gguu', 'gggc', 'aaagc', 'aaagg', 'aaugu', 'aacaa', 'auucc', 'acagu', 'acugu', 'accau', 'accug', 'acggg', 'aguga', 'agcau', 'agcca', 'agcgc', 'uaaag', 'ucacc', 'ucagg', 'ucuac', 'uccca', 'ugaaa', 'ugaag', 'ugaga', 'ugagu', 'ugagg', 'ugcag', 'uggua', 'ugguc', 'caaag', 'caacc', 'caagc', 'cacuu', 'cacug', 'cagau', 'caggg', 'cuuag', 'cuuga', 'cucag', 'cugag', 'cccuc', 'cccgc', 'ccgaa', 'cgagc', 'gaauu', 'guagg', 'guugc', 'gucuu', 'gcaac', 'gcugg', 'gccac', 'gccgg', 'ggaug', 'gguga', 'ggcaa', 'ggcuu', 'ggccc', 'ggguc', 'aaaaaa', 'aauucc', 'aaccug', 'auaguc', 'accuga', 'accugc', 'acgagg', 'acgcaa', 'agaaaa', 'agucag', 'aggcuc', 'uagagg', 'ucuacc', 'ucucag', 'uccgag', 'ucggcg', 'cuuauc', 'cucagg', 'cucuca', 'cugaga', 'ccgaag', 'cgcaaa', 'cgcuaa', 'cggcgg', 'gaaagg', 'gaggga', 'guggag', 'gcaacc', 'gcuaaa', 'gcugag', 'gccacu', 'gccucc', 'gccgaa', 'ggaagg', 'ggagag', 'ggcuga', 'ggcggu', 'gggaag', 'gggugc']\n"
     ]
    }
   ],
   "source": [
    "cfs_info = Arffutils.arff_info(cfs_training)\n",
    "print(len(cfs_info['attributes']),cfs_info['attributes'])\n",
    "with open(path.join(docs_path,'cfs_features.csv'),'w') as f:\n",
    "    f.write('#,feature\\n')\n",
    "    f.write('\\n'.join([str(idx+1)+','+ft for idx,ft in enumerate(cfs_info['attributes'])]))"
   ]
  },
  {
   "cell_type": "code",
   "execution_count": 8,
   "metadata": {
    "collapsed": true
   },
   "outputs": [],
   "source": [
    "selected_fts = ['aa', 'au', 'ac', 'ag', 'ug', 'ca', 'cc', 'ga', 'gu', 'gc', 'ucc', 'cua', 'cuc', 'cug', \n",
    "                'ggg', 'aaac', 'aaua', 'aaga', 'aucu', 'aucg', 'augg', 'acau', 'accg', 'acga', 'agag', \n",
    "                'aguu', 'aguc', 'aggu', 'aggc', 'uaua', 'uuac', 'uuuc', 'uucg', 'uugu', 'uugg', 'ucaa', \n",
    "                'ucau', 'ucua', 'ugcu', 'caca', 'cagc', 'cuaa', 'cuau', 'cuac', 'cucu', 'cuga', 'ccaa', \n",
    "                'cguu', 'cgcu', 'cggu', 'gaua', 'gauu', 'gaca', 'gacu', 'guaa', 'gucg', 'gugg', 'gcaa', \n",
    "                'gccu', 'gguu', 'gggc', 'aaagc', 'aaagg', 'aaugu', 'aacaa', 'auucc', 'acagu', 'acugu', \n",
    "                'accau', 'accug', 'acggg', 'aguga', 'agcau', 'agcca', 'agcgc', 'uaaag', 'ucacc', 'ucagg', \n",
    "                'ucuac', 'uccca', 'ugaaa', 'ugaag', 'ugaga', 'ugagu', 'ugagg', 'ugcag', 'uggua', 'ugguc', \n",
    "                'caaag', 'caacc', 'caagc', 'cacuu', 'cacug', 'cagau', 'caggg', 'cuuag', 'cuuga', 'cucag', \n",
    "                'cugag', 'cccuc', 'cccgc', 'ccgaa', 'cgagc', 'gaauu', 'guagg', 'guugc', 'gucuu', 'gcaac', \n",
    "                'gcugg', 'gccac', 'gccgg', 'ggaug', 'gguga', 'ggcaa', 'ggcuu', 'ggccc', 'ggguc', 'aaaaaa', \n",
    "                'aauucc', 'aaccug', 'auaguc', 'accuga', 'accugc', 'acgagg', 'acgcaa', 'agaaaa', 'agucag', \n",
    "                'aggcuc', 'uagagg', 'ucuacc', 'ucucag', 'uccgag', 'ucggcg', 'cuuauc', 'cucagg', 'cucuca', \n",
    "                'cugaga', 'ccgaag', 'cgcaaa', 'cgcuaa', 'cggcgg', 'gaaagg', 'gaggga', 'guggag', 'gcaacc', \n",
    "                'gcuaaa', 'gcugag', 'gccacu', 'gccucc', 'gccgaa', 'ggaagg', 'ggagag', 'ggcuga', 'ggcggu', \n",
    "                'gggaag', 'gggugc']"
   ]
  },
  {
   "cell_type": "code",
   "execution_count": 9,
   "metadata": {},
   "outputs": [
    {
     "name": "stderr",
     "output_type": "stream",
     "text": [
      "Wrote /home/hugo/Documents/PUBLICATIONS/2017-Riboswitches-split/features/test-hard-hex-cfs.arff\n",
      "Wrote /home/hugo/Documents/PUBLICATIONS/2017-Riboswitches-split/features/test-hex-cfs.arff\n"
     ]
    }
   ],
   "source": [
    "files_hex = {test_seqs:cfs_test,\n",
    "             test_hard_seqs:cfs_test_hard}\n",
    "F = SeqComposition(6)\n",
    "for k,v in files_hex.items():\n",
    "    F.to_arff(input_fasta=k,output_arff=v,\n",
    "         relation='riboswitch_hex_cfs',\n",
    "         id_func=id_transform,\n",
    "         filter_list=selected_fts)\n",
    "    print('Wrote',v,file=sys.stderr)"
   ]
  },
  {
   "cell_type": "code",
   "execution_count": 10,
   "metadata": {
    "collapsed": true
   },
   "outputs": [],
   "source": [
    "Arffutils.homologate_class([cfs_training,cfs_test,cfs_test_hard])"
   ]
  },
  {
   "cell_type": "markdown",
   "metadata": {},
   "source": [
    "### Note: run both knowledgeflow schemes \n",
    "#### TODO: Add ZeroR to knowledgeflow file"
   ]
  },
  {
   "cell_type": "code",
   "execution_count": 6,
   "metadata": {
    "collapsed": true
   },
   "outputs": [],
   "source": [
    "files = {path.join(weka_output,'cv_hex_cfs.txt'):path.join(results_raw_path,'HEXCFS_CV.txt'),        \n",
    "        path.join(weka_output,'test_hex_cfs.txt'):path.join(results_raw_path,'HEXCFS_TEST.txt'),         \n",
    "        path.join(weka_output,'test_hard_hex_cfs.txt'):path.join(results_raw_path,'HEXCFS_TEST_HARD.txt')}\n",
    "        #path.join(weka_output,'cv_dnc.txt'):path.join(results_raw_path,'DNC_CV.txt'),\n",
    "        #path.join(weka_output,'test_dnc.txt'):path.join(results_raw_path,'DNC_TEST.txt'),\n",
    "         #path.join(weka_output,'test_hard_dnc.txt'):path.join(results_raw_path,'DNC_TEST_HARD.txt')}\n",
    "for k,v in files.items():\n",
    "    shutil.copy(k,v)\n",
    "\n",
    "blastn_confusion_test = path.join(results_parsed_path,'HEXCFS_TEST-BLASTN-confusion.csv')\n",
    "shutil.copy(path.join(blast_output_path,'1.00E+06','confusion-all.csv'),blastn_confusion_test)\n",
    "Wekautils.plot_confusion_from_csv(blastn_confusion_test,title='BLASTN Test',\n",
    "                                  output=blastn_confusion_test.replace('.csv','.'+img_format))\n",
    "\n",
    "blastn_confusion_test = path.join(results_parsed_path,'HEXCFS_TEST_HARD-BLASTN-confusion.csv')\n",
    "shutil.copy(path.join(blast_output_path,'1.00E+06','confusion-limit.csv'),blastn_confusion_test)\n",
    "Wekautils.plot_confusion_from_csv(blastn_confusion_test,title='BLASTN Test',\n",
    "                                  output=blastn_confusion_test.replace('.csv','.'+img_format))"
   ]
  },
  {
   "cell_type": "code",
   "execution_count": 7,
   "metadata": {},
   "outputs": [
    {
     "name": "stderr",
     "output_type": "stream",
     "text": [
      "Processing /home/hugo/Documents/PUBLICATIONS/2017-Riboswitches-split/results_raw/HEXCFS_CV.txt\n",
      "Processing /home/hugo/Documents/PUBLICATIONS/2017-Riboswitches-split/results_raw/HEXCFS_TEST_HARD.txt\n",
      "Processing /home/hugo/Documents/PUBLICATIONS/2017-Riboswitches-split/results_raw/HEXCFS_TEST.txt\n"
     ]
    }
   ],
   "source": [
    "for input_txt in [path.join(results_raw_path,f) for f in listdir(results_raw_path) if f.endswith('.txt')]:\n",
    "    print('Processing',input_txt,file=sys.stderr)\n",
    "    prefix = path.basename(input_txt).replace('.txt','-')\n",
    "    summary_csv = path.join(results_parsed_path,prefix+'-weka_summary.csv')    \n",
    "    summary = DataFrame()\n",
    "    for r in Wekautils.parse_knowledgeflow_txt(input_txt,families):\n",
    "        extract_weka_results(r,results_parsed_path,prefix)              \n",
    "        if summary.empty:\n",
    "            summary = r['Summary'].to_frame().transpose()\n",
    "        else:\n",
    "            summary = pd.concat([summary,r['Summary'].to_frame().transpose()])\n",
    "    summary.set_index(['Scheme'],inplace=True)\n",
    "    summary.to_csv(summary_csv, float_format=float_format)     \n",
    "    \n",
    "#to_merge = {(path.join(results_parsed_path,'HEXCFS_CV--SUMMARY.csv'),\n",
    "#             path.join(results_parsed_path,'DNC_CV--SUMMARY.csv')):path.join(results_path,'CV.csv'),\n",
    "#           (path.join(results_parsed_path,'HEXCFS_TEST--SUMMARY.csv'),\n",
    "#             path.join(results_parsed_path,'DNC_TEST--SUMMARY.csv')):path.join(results_path,'TEST.csv'),\n",
    "#           (path.join(results_parsed_path,'HEXCFS_TEST_HARD--SUMMARY.csv'),\n",
    "#             path.join(results_parsed_path,'DNC_TEST_HARD--SUMMARY.csv')):path.join(results_path,'TEST_HARD.csv')}\n",
    "#for k,v in to_merge.items():\n",
    "#    merge_weka_results(k,v)    "
   ]
  },
  {
   "cell_type": "code",
   "execution_count": 73,
   "metadata": {},
   "outputs": [
    {
     "name": "stderr",
     "output_type": "stream",
     "text": [
      "Processing /home/hugo/Documents/PUBLICATIONS/2017-Riboswitches-split/results_raw/HEXCFS_CV.txt\n",
      "/home/hugo/anaconda3/lib/python3.6/site-packages/ipykernel_launcher.py:82: RuntimeWarning: invalid value encountered in true_divide\n",
      "/home/hugo/anaconda3/lib/python3.6/site-packages/ipykernel_launcher.py:83: RuntimeWarning: invalid value encountered in true_divide\n",
      "/home/hugo/anaconda3/lib/python3.6/site-packages/ipykernel_launcher.py:87: RuntimeWarning: invalid value encountered in true_divide\n",
      "Processing /home/hugo/Documents/PUBLICATIONS/2017-Riboswitches-split/results_raw/HEXCFS_TEST_HARD.txt\n",
      "/home/hugo/anaconda3/lib/python3.6/site-packages/ipykernel_launcher.py:79: RuntimeWarning: invalid value encountered in true_divide\n",
      "/home/hugo/anaconda3/lib/python3.6/site-packages/ipykernel_launcher.py:81: RuntimeWarning: invalid value encountered in true_divide\n",
      "/home/hugo/anaconda3/lib/python3.6/site-packages/ipykernel_launcher.py:86: RuntimeWarning: invalid value encountered in true_divide\n",
      "Processing /home/hugo/Documents/PUBLICATIONS/2017-Riboswitches-split/results_raw/HEXCFS_TEST.txt\n"
     ]
    },
    {
     "name": "stdout",
     "output_type": "stream",
     "text": [
      "CV\n",
      "          Sen       Spe       ACC        F1\n",
      "SMO  0.995569  0.999282  0.995569  0.995569\n",
      "MLP  0.993714  0.998940  0.993714  0.993710\n",
      "RF   0.988355  0.997348  0.988355  0.988126\n",
      "J48  0.934151  0.989546  0.934151  0.934068\n",
      "NB   0.913644  0.991021  0.913644  0.915666\n",
      "HP   0.462902  0.877867  0.462902  0.386256\n",
      "TEST_HARD\n",
      "             Sen       Spe       ACC        F1\n",
      "MLP     0.782609  0.982063  0.782609  0.828727\n",
      "SMO     0.739130  0.997683  0.739130  0.815069\n",
      "BLASTN  0.730435  0.989791  0.730435  0.784047\n",
      "RF      0.495652  0.977872  0.495652  0.563057\n",
      "NB      0.443478  0.970770  0.443478  0.524979\n",
      "J48     0.295652  0.977889  0.295652  0.380657\n",
      "HP      0.060870  0.983869  0.060870  0.076615\n",
      "TEST\n",
      "              Sen       Spe       ACC        F1\n",
      "BLASTN   0.995216  0.999023  0.995216  0.995152\n",
      "SMO      0.965741  0.992911  0.965741  0.965951\n",
      "MLP      0.963272  0.993350  0.963272  0.963432\n",
      "RF       0.946759  0.985118  0.946759  0.945528\n",
      "J48      0.880710  0.975931  0.880710  0.879175\n",
      "NB       0.858025  0.986791  0.858025  0.863457\n",
      "HP       0.421914  0.871635  0.421914  0.337118\n",
      "MLP-DNC  0.914200  0.260900  0.810000  0.330500\n"
     ]
    }
   ],
   "source": [
    "R = {'HEXCFS_TEST-':{'MLP-DNC':results_singh}}\n",
    "\n",
    "for input_txt in [path.join(results_raw_path,f) for f in listdir(results_raw_path) if f.endswith('.txt')]:\n",
    "    print('Processing',input_txt,file=sys.stderr)\n",
    "    prefix = path.basename(input_txt).replace('.txt','-')\n",
    "    if prefix not in R:\n",
    "        R[prefix] = {}            \n",
    "    for confusion_csv in [path.join(results_parsed_path,f) \n",
    "                          for f in listdir(results_parsed_path) if f.startswith(prefix)\n",
    "                          and f.endswith('confusion.csv')]: \n",
    "        scheme = confusion_csv.split('-')[-2].replace('MultilayerPerceptron','MLP').replace('RandomForest','RF').replace('NaiveBayes','NB').replace('HyperPipes','HP')\n",
    "        byclass, summary = get_metrics_from_confusioncsv(confusion_csv)\n",
    "        byclass.to_csv(confusion_csv.replace('confusion.csv','byclass.csv'))        \n",
    "        R[prefix][scheme] = summary                    \n",
    "    df = DataFrame.from_dict(R[prefix],orient='index').fillna(0)\n",
    "    df = df[['Sen','Spe','ACC','F1']].sort_values(['F1','ACC'],ascending=[False,False])\n",
    "    name = prefix.replace('HEXCFS_','').replace('-','')    \n",
    "    df.to_csv(path.join(results_path,name+'.csv'))\n",
    "    print(name)\n",
    "    print(df)"
   ]
  },
  {
   "cell_type": "markdown",
   "metadata": {},
   "source": [
    "# CV"
   ]
  },
  {
   "cell_type": "code",
   "execution_count": 15,
   "metadata": {},
   "outputs": [
    {
     "data": {
      "image/png": "[encoded data removed]",
      "text/plain": [
       "<matplotlib.figure.Figure at 0x7f6fd61ae5f8>"
      ]
     },
     "metadata": {},
     "output_type": "display_data"
    },
    {
     "name": "stdout",
     "output_type": "stream",
     "text": [
      "\\begin{table}[ht]\n",
      "\\centering\n",
      "    \\begin{tabular}{lrrrr}\n",
      "\\toprule\n",
      "\\multicolumn{1}{c}{Scheme} & \\multicolumn{1}{c}{Sen} & \\multicolumn{1}{c}{Spe} & \\multicolumn{1}{c}{ACC} & \\multicolumn{1}{c}{F1}\\\\\n",
      "\\midrule\n",
      "   SMO & 0.996 & 0.999 & 0.996 & 0.996 \\\\\n",
      "   MLP & 0.994 & 0.999 & 0.994 & 0.994 \\\\\n",
      "    RF & 0.988 & 0.997 & 0.988 & 0.988 \\\\\n",
      "   J48 & 0.934 & 0.990 & 0.934 & 0.934 \\\\\n",
      "    NB & 0.914 & 0.991 & 0.914 & 0.916 \\\\\n",
      "    HP & 0.463 & 0.878 & 0.463 & 0.386 \\\\\n",
      "\\bottomrule\n",
      "\\end{tabular}\n",
      " \\caption{\\label{tab:training}10-fold cross-validation results. The results are ordered by $F1$ in descending order.\n",
      "  The cells in bold represent the best value per column.}\n",
      "\\end{table}\n",
      "\n"
     ]
    }
   ],
   "source": [
    "df = pd.read_csv(path.join(results_path,'CV.csv'),index_col=0)\n",
    "df.plot(kind='bar',colormap='viridis')\n",
    "legend = plt.legend(loc='best',bbox_to_anchor=(1,1))\n",
    "legend.draw_frame(False) \n",
    "plt.savefig(path.join(results_path,'CV.'+img_format),dpi=300,bbox_extra_artists=(legend,),bbox_inches='tight')\n",
    "plt.show()\n",
    "\n",
    "df = df.reset_index().rename(columns={'index':'Scheme'})\n",
    "label = 'tab:training'\n",
    "caption = '''10-fold cross-validation results. The results are ordered by $F1$ in descending order.\n",
    "  The cells in bold represent the best value per column.'''\n",
    "print(latex_table(df,label,caption))"
   ]
  },
  {
   "cell_type": "markdown",
   "metadata": {},
   "source": [
    "# TEST"
   ]
  },
  {
   "cell_type": "code",
   "execution_count": 16,
   "metadata": {},
   "outputs": [
    {
     "data": {
      "image/png": "[encoded data removed]",
      "text/plain": [
       "<matplotlib.figure.Figure at 0x7f6fd5c57b38>"
      ]
     },
     "metadata": {},
     "output_type": "display_data"
    },
    {
     "name": "stdout",
     "output_type": "stream",
     "text": [
      "\\begin{table}[ht]\n",
      "\\centering\n",
      "    \\begin{tabular}{lrrrr}\n",
      "\\toprule\n",
      "\\multicolumn{1}{c}{Scheme} & \\multicolumn{1}{c}{Sen} & \\multicolumn{1}{c}{Spe} & \\multicolumn{1}{c}{ACC} & \\multicolumn{1}{c}{F1}\\\\\n",
      "\\midrule\n",
      "  BLASTN & 0.995 & 0.999 & 0.995 & 0.995 \\\\\n",
      "     SMO & 0.966 & 0.993 & 0.966 & 0.966 \\\\\n",
      "     MLP & 0.963 & 0.993 & 0.963 & 0.963 \\\\\n",
      "      RF & 0.947 & 0.985 & 0.947 & 0.946 \\\\\n",
      "     J48 & 0.881 & 0.976 & 0.881 & 0.879 \\\\\n",
      "      NB & 0.858 & 0.987 & 0.858 & 0.863 \\\\\n",
      "      HP & 0.422 & 0.872 & 0.422 & 0.337 \\\\\n",
      " MLP-DNC & 0.914 & 0.261 & 0.810 & 0.331 \\\\\n",
      "\\bottomrule\n",
      "\\end{tabular}\n",
      " \\caption{\\label{tab:test}Classifiers performance on the independent dataset. \n",
      "The results are ordered by $F1$ in descending order.\n",
      "  The cells in bold represent the best value per column.}\n",
      "\\end{table}\n",
      "\n"
     ]
    }
   ],
   "source": [
    "#df = pd.read_csv(path.join(results_path,'TEST.csv'),index_col=0).drop(['BLASTN'])\n",
    "df = pd.read_csv(path.join(results_path,'TEST.csv'),index_col=0)\n",
    "df.plot(kind='bar',colormap='viridis')\n",
    "legend = plt.legend(loc='best',bbox_to_anchor=(1,1))\n",
    "legend.draw_frame(False) \n",
    "plt.savefig(path.join(results_path,'TEST.'+img_format),dpi=300,bbox_extra_artists=(legend,),bbox_inches='tight')\n",
    "plt.show()\n",
    "\n",
    "df = df.reset_index().rename(columns={'index':'Scheme'})\n",
    "label = 'tab:test'\n",
    "caption = '''Classifiers performance on the independent dataset. \n",
    "The results are ordered by $F1$ in descending order.\n",
    "  The cells in bold represent the best value per column.'''\n",
    "print(latex_table(df,label,caption))"
   ]
  },
  {
   "cell_type": "markdown",
   "metadata": {},
   "source": [
    "## TEST SMO-HEXCFS"
   ]
  },
  {
   "cell_type": "code",
   "execution_count": 11,
   "metadata": {},
   "outputs": [
    {
     "data": {
      "image/png": "[encoded data removed]",
      "text/plain": [
       "<matplotlib.figure.Figure at 0x7faa11517240>"
      ]
     },
     "metadata": {},
     "output_type": "display_data"
    },
    {
     "name": "stdout",
     "output_type": "stream",
     "text": [
      "\\begin{table}[ht]\n",
      "\\centering\n",
      "    \\begin{tabular}{lrrr}\n",
      "\\toprule\n",
      "\\multicolumn{1}{c}{class} & \\multicolumn{1}{c}{Sen} & \\multicolumn{1}{c}{Spe} & \\multicolumn{1}{c}{F1}\\\\\n",
      "\\midrule\n",
      " RF00050 & 0.971 & 0.998 & 0.974 \\\\\n",
      " RF00059 & 0.961 & 0.998 & 0.976 \\\\\n",
      " RF00162 & 0.972 & 0.997 & 0.971 \\\\\n",
      " RF00167 & 0.949 & 1.000 & 0.968 \\\\\n",
      " RF00168 & 0.831 & 0.998 & 0.880 \\\\\n",
      " RF00174 & 0.996 & 0.978 & 0.968 \\\\\n",
      " RF00234 & 0.936 & 0.999 & 0.949 \\\\\n",
      " RF00380 & 0.931 & 0.995 & 0.802 \\\\\n",
      " RF00504 & 0.984 & 0.998 & 0.986 \\\\\n",
      " RF00521 & 0.970 & 1.000 & 0.985 \\\\\n",
      " RF00522 & 0.957 & 1.000 & 0.978 \\\\\n",
      " RF00634 & 0.851 & 1.000 & 0.919 \\\\\n",
      " RF01051 & 0.934 & 1.000 & 0.965 \\\\\n",
      " RF01054 & 0.938 & 1.000 & 0.968 \\\\\n",
      " RF01055 & 0.975 & 0.997 & 0.926 \\\\\n",
      " RF01057 & 0.938 & 1.000 & 0.968 \\\\\n",
      "\\bottomrule\n",
      "\\end{tabular}\n",
      " \\caption{\\label{tab:test-smo}SMO-HEXCFS performance by class on the test dataset.}\n",
      "\\end{table}\n",
      "\n",
      "\\begin{figure}[ht]\n",
      "\\centering\n",
      "\\includegraphics[width=\\textwidth]{\"figure_1_testsmo\"}\n",
      "\\caption{Confusion matrix for SMO-HEXCFS on the test set.\n",
      "The color intensities represent the scaling of cell values with respect to the number of sequences per family. }\\label{fig:testsmo}\n",
      "\\end{figure}\n",
      "\n"
     ]
    }
   ],
   "source": [
    "df = pd.read_csv(path.join(results_parsed_path,'HEXCFS_TEST-SMO-byclass.csv'),index_col=0)\n",
    "df = df[['Sen','Spe','F1']]\n",
    "df.plot(kind='bar',colormap='viridis')\n",
    "legend = plt.legend(loc='best',bbox_to_anchor=(1,1))\n",
    "legend.draw_frame(False) \n",
    "plt.savefig(path.join(results_path,'TEST-SMO-HEXCFS.'+img_format),dpi=300,bbox_extra_artists=(legend,),bbox_inches='tight')\n",
    "plt.show()\n",
    "\n",
    "df = df.reset_index().rename(columns={'index':'Scheme'})\n",
    "label = 'tab:test-smo'\n",
    "caption = '''SMO-HEXCFS performance by class on the test dataset.'''\n",
    "print(latex_table(df,label,caption))\n",
    "\n",
    "shutil.copy(path.join(results_parsed_path,'HEXCFS_TEST-SMO-confusion.'+img_format),\n",
    "           path.join(manuscript_path,'figure_1_testsmo.'+img_format))\n",
    "label = 'fig:testsmo'\n",
    "caption = '''Confusion matrix for SMO-HEXCFS on the test set.\n",
    "The color intensities represent the scaling of cell values with respect to the number of sequences per family. '''\n",
    "print(latex_img('figure_1_testsmo',label,caption))"
   ]
  },
  {
   "cell_type": "markdown",
   "metadata": {},
   "source": [
    "# TEST_HARD"
   ]
  },
  {
   "cell_type": "code",
   "execution_count": 29,
   "metadata": {},
   "outputs": [
    {
     "data": {
      "image/png": "[encoded data removed]",
      "text/plain": [
       "<matplotlib.figure.Figure at 0x7fdeb6d46630>"
      ]
     },
     "metadata": {},
     "output_type": "display_data"
    },
    {
     "name": "stdout",
     "output_type": "stream",
     "text": [
      "\\begin{table}[ht]\n",
      "\\centering\n",
      "    \\begin{tabular}{lrrrr}\n",
      "\\toprule\n",
      "\\multicolumn{1}{c}{Scheme} & \\multicolumn{1}{c}{Sen} & \\multicolumn{1}{c}{Spe} & \\multicolumn{1}{c}{ACC} & \\multicolumn{1}{c}{F1}\\\\\n",
      "\\midrule\n",
      "    MLP & 0.783 & 0.982 & 0.783 & 0.829 \\\\\n",
      "    SMO & 0.739 & 0.998 & 0.739 & 0.815 \\\\\n",
      " BLASTN & 0.730 & 0.990 & 0.730 & 0.784 \\\\\n",
      "     RF & 0.496 & 0.978 & 0.496 & 0.563 \\\\\n",
      "     NB & 0.443 & 0.971 & 0.443 & 0.525 \\\\\n",
      "    J48 & 0.296 & 0.978 & 0.296 & 0.381 \\\\\n",
      "     HP & 0.061 & 0.984 & 0.061 & 0.077 \\\\\n",
      "\\bottomrule\n",
      "\\end{tabular}\n",
      " \\caption{\\label{tab:test-hard}Classifiers performance on test sequences with $E$-value$\\geq 1.3E-2$.\n",
      "The results are ordered by $F1$ in descending order.\n",
      "  The cells in bold represent the best value per column.}\n",
      "\\end{table}\n",
      "\n"
     ]
    }
   ],
   "source": [
    "df = pd.read_csv(path.join(results_path,'TEST_HARD.csv'),index_col=0)\n",
    "df.plot(kind='bar',colormap='viridis')\n",
    "legend = plt.legend(loc='best',bbox_to_anchor=(1,1))\n",
    "legend.draw_frame(False) \n",
    "plt.savefig(path.join(results_path,'TEST_HARD.'+img_format),dpi=300,bbox_extra_artists=(legend,),bbox_inches='tight')\n",
    "plt.show()\n",
    "\n",
    "df = df.reset_index().rename(columns={'index':'Scheme'})\n",
    "#print(df)\n",
    "label = 'tab:test-hard'\n",
    "caption = '''Classifiers performance on test sequences with $E$-value$\\geq 1.3E-2$.\n",
    "The results are ordered by $F1$ in descending order.\n",
    "  The cells in bold represent the best value per column.'''\n",
    "print(latex_table(df,label,caption))"
   ]
  },
  {
   "cell_type": "markdown",
   "metadata": {},
   "source": [
    "## TEST HARD MLP vs BLASTN"
   ]
  },
  {
   "cell_type": "code",
   "execution_count": 12,
   "metadata": {},
   "outputs": [
    {
     "name": "stdout",
     "output_type": "stream",
     "text": [
      "\\begin{table}[ht]\n",
      "\\centering\n",
      "    \\begin{tabular}{lrrrrrrr}\n",
      "\\toprule\n",
      "\\multicolumn{1}{c}{class} & \\multicolumn{1}{c}{support} & \\multicolumn{1}{c}{Sen\\_blast} & \\multicolumn{1}{c}{Sen\\_mlp} & \\multicolumn{1}{c}{Spe\\_blast} & \\multicolumn{1}{c}{Spe\\_mlp} & \\multicolumn{1}{c}{F1\\_blast} & \\multicolumn{1}{c}{F1\\_mlp}\\\\\n",
      "\\midrule\n",
      " RF00059 &        1 &      1.000 &    1.000 &      0.939 &    1.000 &     0.222 &   1.000 \\\\\n",
      " RF00162 &        3 &      1.000 &    1.000 &      0.973 &    0.920 &     0.667 &   0.400 \\\\\n",
      " RF00167 &        7 &      0.857 &    0.857 &      1.000 &    0.991 &     0.923 &   0.857 \\\\\n",
      " RF00168 &       52 &      0.673 &    0.673 &      1.000 &    0.968 &     0.805 &   0.787 \\\\\n",
      " RF00174 &        2 &      1.000 &    1.000 &      0.920 &    0.956 &     0.308 &   0.444 \\\\\n",
      " RF00504 &       19 &      0.789 &    0.842 &      0.969 &    1.000 &     0.811 &   0.914 \\\\\n",
      " RF00522 &        4 &      0.500 &    1.000 &      1.000 &    1.000 &     0.667 &   1.000 \\\\\n",
      " RF00634 &        1 &      1.000 &    0.000 &      0.991 &    1.000 &     0.667 &   0.000 \\\\\n",
      " RF01051 &        1 &      1.000 &    0.000 &      0.982 &    0.982 &     0.500 &   0.000 \\\\\n",
      " RF01055 &       19 &      0.632 &    0.895 &      0.990 &    1.000 &     0.750 &   0.944 \\\\\n",
      " RF01057 &        6 &      1.000 &    1.000 &      0.991 &    1.000 &     0.923 &   1.000 \\\\\n",
      "\\bottomrule\n",
      "\\end{tabular}\n",
      " \\caption{\\label{tab:test-hard-comp}Comparison of performance by class of MLP-HEXCFS and BLAST on hits with $E$-value$\\geq$1.3E-2.}\n",
      "\\end{table}\n",
      "\n",
      "\\begin{figure}[ht]\n",
      "\\centering\n",
      "\\includegraphics[width=\\textwidth]{\"figure_2_testhardblast\"}\n",
      "\\caption{Confusion matrices for BLAST and MLP-HEXCFS on the sequences with $E$-value$\\geq 1.3E-2$. \n",
      "A) BLASTN. B) MLP-HEXCFS. \n",
      "The color intensities represent the scaling of cell values with respect to the number of sequences per family. }\\label{fig:testhard-confusion}\n",
      "\\end{figure}\n",
      "\n"
     ]
    }
   ],
   "source": [
    "df1 = pd.read_csv(path.join(results_parsed_path,'HEXCFS_TEST_HARD-BLASTN-byclass.csv'),index_col=0)\n",
    "df1 = df1[['support','Sen','Spe','F1']]\n",
    "df2 = pd.read_csv(path.join(results_parsed_path,'HEXCFS_TEST_HARD-MultilayerPerceptron-byclass.csv'),index_col=0)\n",
    "df2 = df2[['Sen','Spe','F1']]\n",
    "df = df1.join(df2,how='inner', lsuffix='_blast', rsuffix='_mlp')\n",
    "df = df[df['support']>0]\n",
    "df = df[['support','Sen_blast','Sen_mlp','Spe_blast','Spe_mlp','F1_blast','F1_mlp']]\n",
    "\n",
    "df = df.reset_index()\n",
    "label = 'tab:test-hard-comp'\n",
    "caption = '''Comparison of performance by class of MLP-HEXCFS and BLAST on hits with $E$-value$\\geq$1.3E-2.'''\n",
    "print(latex_table(df,label,caption))\n",
    "\n",
    "shutil.copy(path.join(results_parsed_path,'HEXCFS_TEST_HARD-BLASTN-confusion.'+img_format),\n",
    "           path.join(manuscript_path,'figure_2_testhardblast.'+img_format))\n",
    "shutil.copy(path.join(results_parsed_path,'HEXCFS_TEST_HARD-MultilayerPerceptron-confusion.'+img_format),\n",
    "           path.join(manuscript_path,'figure_3_testhardmlp.'+img_format))\n",
    "label = 'fig:testhard-confusion'\n",
    "caption = '''Confusion matrices for BLAST and MLP-HEXCFS on the sequences with $E$-value$\\geq 1.3E-2$. \n",
    "A) BLASTN. B) MLP-HEXCFS. \n",
    "The color intensities represent the scaling of cell values with respect to the number of sequences per family. '''\n",
    "print(latex_img('figure_2_testhardblast',label,caption))"
   ]
  },
  {
   "cell_type": "markdown",
   "metadata": {},
   "source": [
    "# Imagenes Examen predoctoral"
   ]
  },
  {
   "cell_type": "code",
   "execution_count": 5,
   "metadata": {
    "collapsed": true
   },
   "outputs": [],
   "source": [
    "reporte = r'/home/hugo/Dropbox/DOCTORADO CICESE/000 TESIS/Reportes/2017-08-27 EXAMEN PREDOCTORAL/img'"
   ]
  },
  {
   "cell_type": "code",
   "execution_count": 12,
   "metadata": {},
   "outputs": [
    {
     "data": {
      "image/png": "[encoded data removed]",
      "text/plain": [
       "<matplotlib.figure.Figure at 0x7f5622d791d0>"
      ]
     },
     "metadata": {},
     "output_type": "display_data"
    }
   ],
   "source": [
    "plt.close('all')\n",
    "#CV\n",
    "df = pd.read_csv(path.join(results_path,'CV.csv'),index_col=0)\n",
    "df.plot(kind='bar',colormap='viridis')\n",
    "legend = plt.legend(loc='best',bbox_to_anchor=(1,1))\n",
    "legend.draw_frame(False) \n",
    "plt.title('10-fold CV results (HEXCFS)')\n",
    "\n",
    "ax = plt.gca()\n",
    "ax.set_ylim([0,1])\n",
    "ax.yaxis.grid(True)\n",
    "plt.savefig(path.join(reporte,'CV.'+img_format),dpi=300,bbox_extra_artists=(legend,),bbox_inches='tight')\n",
    "plt.show()"
   ]
  },
  {
   "cell_type": "code",
   "execution_count": 14,
   "metadata": {},
   "outputs": [
    {
     "name": "stdout",
     "output_type": "stream",
     "text": [
      "              Sen       Spe       ACC        F1\n",
      "BLASTN   0.995216  0.999023  0.995216  0.995152\n",
      "SMO      0.965741  0.992911  0.965741  0.965951\n",
      "MLP      0.963272  0.993350  0.963272  0.963432\n",
      "RF       0.946759  0.985118  0.946759  0.945528\n",
      "J48      0.880710  0.975931  0.880710  0.879175\n",
      "NB       0.858025  0.986791  0.858025  0.863457\n",
      "HP       0.421914  0.871635  0.421914  0.337118\n",
      "MLP-DNC  0.914200  0.260900  0.810000  0.330500\n"
     ]
    },
    {
     "data": {
      "image/png": "[encoded data removed]",
      "text/plain": [
       "<matplotlib.figure.Figure at 0x7f56200360f0>"
      ]
     },
     "metadata": {},
     "output_type": "display_data"
    }
   ],
   "source": [
    "#TEST\n",
    "df = pd.read_csv(path.join(results_path,'TEST.csv'),index_col=0)\n",
    "df.plot(kind='bar',colormap='viridis')\n",
    "legend = plt.legend(loc='best',bbox_to_anchor=(1,1))\n",
    "legend.draw_frame(False) \n",
    "plt.title('Test results')\n",
    "print(df)\n",
    "ax = plt.gca()\n",
    "ax.set_ylim([0,1])\n",
    "ax.yaxis.grid(True)\n",
    "plt.savefig(path.join(reporte,'TEST.'+img_format),dpi=300,bbox_extra_artists=(legend,),bbox_inches='tight')\n",
    "plt.show()"
   ]
  },
  {
   "cell_type": "code",
   "execution_count": null,
   "metadata": {
    "collapsed": true
   },
   "outputs": [],
   "source": []
  }
 ],
 "metadata": {
  "kernelspec": {
   "display_name": "Python 3",
   "language": "python",
   "name": "python3"
  },
  "language_info": {
   "codemirror_mode": {
    "name": "ipython",
    "version": 3
   },
   "file_extension": ".py",
   "mimetype": "text/x-python",
   "name": "python",
   "nbconvert_exporter": "python",
   "pygments_lexer": "ipython3",
   "version": "3.6.1"
  }
 },
 "nbformat": 4,
 "nbformat_minor": 2
}
